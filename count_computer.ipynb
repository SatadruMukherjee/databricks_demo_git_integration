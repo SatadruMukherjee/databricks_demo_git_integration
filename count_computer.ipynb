{
 "cells": [
  {
   "cell_type": "code",
   "execution_count": 0,
   "metadata": {
    "application/vnd.databricks.v1+cell": {
     "cellMetadata": {},
     "inputWidgets": {},
     "nuid": "91b50fb4-de88-4380-a76f-71ffa966eaab",
     "showTitle": false,
     "tableResultSettingsMap": {},
     "title": ""
    }
   },
   "outputs": [],
   "source": [
    "from time import sleep\n",
    "print(\"Test Job Parameter\")\n",
    "from pandarallel import pandarallel\n",
    "table_name=dbutils.widgets.get(\"table_name\")\n",
    "print(\"The input table name : \",table_name)\n",
    "query = f\"SELECT COUNT(1) as count FROM {table_name}\"\n",
    "df = spark.sql(query)\n",
    "row_count = df.collect()[0][\"count\"]  # Store the count value in a variable\n",
    "#print(f\"Row count stored in variable: {row_count}\")\n",
    "dbutils.jobs.taskValues.set(key = \"record_count\", value = row_count)\n"
   ]
  },
  {
   "cell_type": "code",
   "execution_count": 0,
   "metadata": {
    "application/vnd.databricks.v1+cell": {
     "cellMetadata": {},
     "inputWidgets": {},
     "nuid": "8487564c-57c7-47d7-89e4-cfef005c1026",
     "showTitle": false,
     "tableResultSettingsMap": {},
     "title": ""
    }
   },
   "outputs": [],
   "source": [
    "print(\"Hi There\")"
   ]
  }
 ],
 "metadata": {
  "application/vnd.databricks.v1+notebook": {
   "computePreferences": null,
   "dashboards": [],
   "environmentMetadata": {
    "base_environment": "",
    "environment_version": "2"
   },
   "inputWidgetPreferences": null,
   "language": "python",
   "notebookMetadata": {
    "pythonIndentUnit": 4
   },
   "notebookName": "count_computer",
   "widgets": {}
  },
  "language_info": {
   "name": "python"
  }
 },
 "nbformat": 4,
 "nbformat_minor": 0
}
