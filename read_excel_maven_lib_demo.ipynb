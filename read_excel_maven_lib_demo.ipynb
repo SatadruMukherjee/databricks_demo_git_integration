{
 "cells": [
  {
   "cell_type": "code",
   "execution_count": 0,
   "metadata": {
    "application/vnd.databricks.v1+cell": {
     "cellMetadata": {
      "byteLimit": 2048000,
      "rowLimit": 10000
     },
     "inputWidgets": {},
     "nuid": "3c420876-3ae2-4f1b-974c-299ff6def6cd",
     "showTitle": false,
     "tableResultSettingsMap": {},
     "title": ""
    }
   },
   "outputs": [],
   "source": [
    "#sample data file path\n",
    "sampleDataFilePath = \"/mnt/excel_test_external_stage/dummydata.xlsx\"\n",
    "\n",
    "#read excelfile\n",
    "sample1DF = spark.read.format(\"com.crealytics.spark.excel\") \\\n",
    ".option(\"header\", True) \\\n",
    ".option(\"inferSchema\", True) \\\n",
    ".load(sampleDataFilePath)\n",
    "\n",
    "print(\"Data read from excel is complete..\")\n",
    "\n",
    "display(sample1DF)"
   ]
  }
 ],
 "metadata": {
  "application/vnd.databricks.v1+notebook": {
   "computePreferences": null,
   "dashboards": [],
   "environmentMetadata": {
    "base_environment": "",
    "environment_version": "2"
   },
   "inputWidgetPreferences": null,
   "language": "python",
   "notebookMetadata": {
    "mostRecentlyExecutedCommandWithImplicitDF": {
     "commandId": 2168542420067411,
     "dataframes": [
      "_sqldf"
     ]
    },
    "pythonIndentUnit": 4
   },
   "notebookName": "read_excel_maven_lib_demo",
   "widgets": {}
  },
  "language_info": {
   "name": "python"
  }
 },
 "nbformat": 4,
 "nbformat_minor": 0
}
